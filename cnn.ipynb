{
 "cells": [
  {
   "cell_type": "markdown",
   "id": "125f9c3c-774d-4777-9d10-b84a5bfb24d7",
   "metadata": {},
   "source": [
    "# 1. Aquisição do Dados"
   ]
  },
  {
   "cell_type": "code",
   "execution_count": 192,
   "id": "03e6d1a9-ad7e-4a3a-b63b-26644fe18363",
   "metadata": {},
   "outputs": [
    {
     "name": "stdout",
     "output_type": "stream",
     "text": [
      "Requirement already satisfied: Pillow in c:\\users\\lucas\\anaconda3\\lib\\site-packages (10.4.0)\n",
      "Requirement already satisfied: tensorflow in c:\\users\\lucas\\anaconda3\\lib\\site-packages (2.18.0)\n",
      "Requirement already satisfied: tensorflow-intel==2.18.0 in c:\\users\\lucas\\anaconda3\\lib\\site-packages (from tensorflow) (2.18.0)\n",
      "Requirement already satisfied: absl-py>=1.0.0 in c:\\users\\lucas\\anaconda3\\lib\\site-packages (from tensorflow-intel==2.18.0->tensorflow) (2.1.0)\n",
      "Requirement already satisfied: astunparse>=1.6.0 in c:\\users\\lucas\\anaconda3\\lib\\site-packages (from tensorflow-intel==2.18.0->tensorflow) (1.6.3)\n",
      "Requirement already satisfied: flatbuffers>=24.3.25 in c:\\users\\lucas\\anaconda3\\lib\\site-packages (from tensorflow-intel==2.18.0->tensorflow) (24.3.25)\n",
      "Requirement already satisfied: gast!=0.5.0,!=0.5.1,!=0.5.2,>=0.2.1 in c:\\users\\lucas\\anaconda3\\lib\\site-packages (from tensorflow-intel==2.18.0->tensorflow) (0.6.0)\n",
      "Requirement already satisfied: google-pasta>=0.1.1 in c:\\users\\lucas\\anaconda3\\lib\\site-packages (from tensorflow-intel==2.18.0->tensorflow) (0.2.0)\n",
      "Requirement already satisfied: libclang>=13.0.0 in c:\\users\\lucas\\anaconda3\\lib\\site-packages (from tensorflow-intel==2.18.0->tensorflow) (18.1.1)\n",
      "Requirement already satisfied: opt-einsum>=2.3.2 in c:\\users\\lucas\\anaconda3\\lib\\site-packages (from tensorflow-intel==2.18.0->tensorflow) (3.4.0)\n",
      "Requirement already satisfied: packaging in c:\\users\\lucas\\anaconda3\\lib\\site-packages (from tensorflow-intel==2.18.0->tensorflow) (24.1)\n",
      "Requirement already satisfied: protobuf!=4.21.0,!=4.21.1,!=4.21.2,!=4.21.3,!=4.21.4,!=4.21.5,<6.0.0dev,>=3.20.3 in c:\\users\\lucas\\anaconda3\\lib\\site-packages (from tensorflow-intel==2.18.0->tensorflow) (4.25.3)\n",
      "Requirement already satisfied: requests<3,>=2.21.0 in c:\\users\\lucas\\anaconda3\\lib\\site-packages (from tensorflow-intel==2.18.0->tensorflow) (2.32.3)\n",
      "Requirement already satisfied: setuptools in c:\\users\\lucas\\anaconda3\\lib\\site-packages (from tensorflow-intel==2.18.0->tensorflow) (75.1.0)\n",
      "Requirement already satisfied: six>=1.12.0 in c:\\users\\lucas\\anaconda3\\lib\\site-packages (from tensorflow-intel==2.18.0->tensorflow) (1.16.0)\n",
      "Requirement already satisfied: termcolor>=1.1.0 in c:\\users\\lucas\\anaconda3\\lib\\site-packages (from tensorflow-intel==2.18.0->tensorflow) (2.5.0)\n",
      "Requirement already satisfied: typing-extensions>=3.6.6 in c:\\users\\lucas\\anaconda3\\lib\\site-packages (from tensorflow-intel==2.18.0->tensorflow) (4.11.0)\n",
      "Requirement already satisfied: wrapt>=1.11.0 in c:\\users\\lucas\\anaconda3\\lib\\site-packages (from tensorflow-intel==2.18.0->tensorflow) (1.14.1)\n",
      "Requirement already satisfied: grpcio<2.0,>=1.24.3 in c:\\users\\lucas\\anaconda3\\lib\\site-packages (from tensorflow-intel==2.18.0->tensorflow) (1.68.0)\n",
      "Requirement already satisfied: tensorboard<2.19,>=2.18 in c:\\users\\lucas\\anaconda3\\lib\\site-packages (from tensorflow-intel==2.18.0->tensorflow) (2.18.0)\n",
      "Requirement already satisfied: keras>=3.5.0 in c:\\users\\lucas\\anaconda3\\lib\\site-packages (from tensorflow-intel==2.18.0->tensorflow) (3.6.0)\n",
      "Requirement already satisfied: numpy<2.1.0,>=1.26.0 in c:\\users\\lucas\\anaconda3\\lib\\site-packages (from tensorflow-intel==2.18.0->tensorflow) (1.26.4)\n",
      "Requirement already satisfied: h5py>=3.11.0 in c:\\users\\lucas\\anaconda3\\lib\\site-packages (from tensorflow-intel==2.18.0->tensorflow) (3.11.0)\n",
      "Requirement already satisfied: ml-dtypes<0.5.0,>=0.4.0 in c:\\users\\lucas\\anaconda3\\lib\\site-packages (from tensorflow-intel==2.18.0->tensorflow) (0.4.1)\n",
      "Requirement already satisfied: wheel<1.0,>=0.23.0 in c:\\users\\lucas\\anaconda3\\lib\\site-packages (from astunparse>=1.6.0->tensorflow-intel==2.18.0->tensorflow) (0.44.0)\n",
      "Requirement already satisfied: rich in c:\\users\\lucas\\anaconda3\\lib\\site-packages (from keras>=3.5.0->tensorflow-intel==2.18.0->tensorflow) (13.7.1)\n",
      "Requirement already satisfied: namex in c:\\users\\lucas\\anaconda3\\lib\\site-packages (from keras>=3.5.0->tensorflow-intel==2.18.0->tensorflow) (0.0.8)\n",
      "Requirement already satisfied: optree in c:\\users\\lucas\\anaconda3\\lib\\site-packages (from keras>=3.5.0->tensorflow-intel==2.18.0->tensorflow) (0.13.1)\n",
      "Requirement already satisfied: charset-normalizer<4,>=2 in c:\\users\\lucas\\anaconda3\\lib\\site-packages (from requests<3,>=2.21.0->tensorflow-intel==2.18.0->tensorflow) (3.3.2)\n",
      "Requirement already satisfied: idna<4,>=2.5 in c:\\users\\lucas\\anaconda3\\lib\\site-packages (from requests<3,>=2.21.0->tensorflow-intel==2.18.0->tensorflow) (3.7)\n",
      "Requirement already satisfied: urllib3<3,>=1.21.1 in c:\\users\\lucas\\anaconda3\\lib\\site-packages (from requests<3,>=2.21.0->tensorflow-intel==2.18.0->tensorflow) (2.2.3)\n",
      "Requirement already satisfied: certifi>=2017.4.17 in c:\\users\\lucas\\anaconda3\\lib\\site-packages (from requests<3,>=2.21.0->tensorflow-intel==2.18.0->tensorflow) (2024.8.30)\n",
      "Requirement already satisfied: markdown>=2.6.8 in c:\\users\\lucas\\anaconda3\\lib\\site-packages (from tensorboard<2.19,>=2.18->tensorflow-intel==2.18.0->tensorflow) (3.4.1)\n",
      "Requirement already satisfied: tensorboard-data-server<0.8.0,>=0.7.0 in c:\\users\\lucas\\anaconda3\\lib\\site-packages (from tensorboard<2.19,>=2.18->tensorflow-intel==2.18.0->tensorflow) (0.7.2)\n",
      "Requirement already satisfied: werkzeug>=1.0.1 in c:\\users\\lucas\\anaconda3\\lib\\site-packages (from tensorboard<2.19,>=2.18->tensorflow-intel==2.18.0->tensorflow) (3.0.3)\n",
      "Requirement already satisfied: MarkupSafe>=2.1.1 in c:\\users\\lucas\\anaconda3\\lib\\site-packages (from werkzeug>=1.0.1->tensorboard<2.19,>=2.18->tensorflow-intel==2.18.0->tensorflow) (2.1.3)\n",
      "Requirement already satisfied: markdown-it-py>=2.2.0 in c:\\users\\lucas\\anaconda3\\lib\\site-packages (from rich->keras>=3.5.0->tensorflow-intel==2.18.0->tensorflow) (2.2.0)\n",
      "Requirement already satisfied: pygments<3.0.0,>=2.13.0 in c:\\users\\lucas\\anaconda3\\lib\\site-packages (from rich->keras>=3.5.0->tensorflow-intel==2.18.0->tensorflow) (2.15.1)\n",
      "Requirement already satisfied: mdurl~=0.1 in c:\\users\\lucas\\anaconda3\\lib\\site-packages (from markdown-it-py>=2.2.0->rich->keras>=3.5.0->tensorflow-intel==2.18.0->tensorflow) (0.1.0)\n",
      "Dataset URL: https://www.kaggle.com/datasets/arbazkhan971/cuhk-face-sketch-database-cufs\n",
      "License(s): copyright-authors\n",
      "Downloading cuhk-face-sketch-database-cufs.zip to C:\\Users\\lucas\\Documents\\cnn-desafio-10\n",
      "\n",
      "Certifique-se de que o arquivo 'kaggle.json' foi baixado do Kaggle e movido para ~/.kaggle.\n",
      "Baixando dataset...\n"
     ]
    },
    {
     "name": "stderr",
     "output_type": "stream",
     "text": [
      "\n",
      "  0%|          | 0.00/113M [00:00<?, ?B/s]\n",
      "  1%|          | 1.00M/113M [00:00<01:30, 1.30MB/s]\n",
      "  2%|1         | 2.00M/113M [00:00<00:44, 2.61MB/s]\n",
      "  4%|3         | 4.00M/113M [00:01<00:20, 5.60MB/s]\n",
      "  7%|7         | 8.00M/113M [00:01<00:09, 12.0MB/s]\n",
      " 11%|#         | 12.0M/113M [00:01<00:06, 15.8MB/s]\n",
      " 15%|#5        | 17.0M/113M [00:01<00:04, 22.8MB/s]\n",
      " 18%|#7        | 20.0M/113M [00:01<00:04, 23.7MB/s]\n",
      " 21%|##1       | 24.0M/113M [00:01<00:03, 27.0MB/s]\n",
      " 24%|##3       | 27.0M/113M [00:01<00:03, 25.1MB/s]\n",
      " 28%|##8       | 32.0M/113M [00:01<00:02, 31.2MB/s]\n",
      " 32%|###1      | 36.0M/113M [00:02<00:02, 33.3MB/s]\n",
      " 35%|###5      | 40.0M/113M [00:02<00:02, 32.0MB/s]\n",
      " 39%|###8      | 44.0M/113M [00:02<00:02, 31.5MB/s]\n",
      " 42%|####2     | 48.0M/113M [00:02<00:02, 32.6MB/s]\n",
      " 46%|####5     | 52.0M/113M [00:02<00:01, 33.1MB/s]\n",
      " 50%|####9     | 56.0M/113M [00:02<00:01, 33.5MB/s]\n",
      " 53%|#####3    | 60.0M/113M [00:02<00:01, 33.5MB/s]\n",
      " 57%|#####6    | 64.0M/113M [00:02<00:01, 33.8MB/s]\n",
      " 60%|######    | 68.0M/113M [00:03<00:01, 29.7MB/s]\n",
      " 64%|######3   | 72.0M/113M [00:03<00:01, 31.0MB/s]\n",
      " 67%|######7   | 76.0M/113M [00:03<00:01, 31.9MB/s]\n",
      " 71%|#######   | 80.0M/113M [00:03<00:01, 32.6MB/s]\n",
      " 74%|#######4  | 84.0M/113M [00:03<00:00, 33.5MB/s]\n",
      " 78%|#######7  | 88.0M/113M [00:03<00:00, 33.7MB/s]\n",
      " 81%|########1 | 92.0M/113M [00:03<00:00, 34.0MB/s]\n",
      " 85%|########4 | 96.0M/113M [00:03<00:00, 32.3MB/s]\n",
      " 88%|########8 | 100M/113M [00:04<00:00, 32.9MB/s] \n",
      " 92%|#########1| 104M/113M [00:04<00:00, 33.3MB/s]\n",
      " 95%|#########5| 108M/113M [00:04<00:00, 32.0MB/s]\n",
      " 99%|#########9| 112M/113M [00:04<00:00, 32.9MB/s]\n",
      "100%|##########| 113M/113M [00:04<00:00, 26.2MB/s]\n"
     ]
    },
    {
     "name": "stdout",
     "output_type": "stream",
     "text": [
      "Missing the required parameter `owner_slug` when calling `metadata_get`\n",
      "Download concluído!\n",
      "\n",
      "Arquivos no diretório atual:\n",
      "['.ipynb_checkpoints', 'cnn.ipynb', 'cropped_sketch', 'cuhk-face-sketch-database-cufs.zip', 'labels.csv', 'original_sketch', 'photo', 'photos', 'photo_points', 'sketch', 'sketches', 'sketch_points']\n"
     ]
    }
   ],
   "source": [
    "import os\n",
    "\n",
    "!pip install Pillow\n",
    "!pip install tensorflow\n",
    "\n",
    "from PIL import Image\n",
    "# Para zipar\n",
    "import zipfile\n",
    "\n",
    "# Para navegar entre diretorios\n",
    "import shutil\n",
    "\n",
    "\n",
    "import pandas as pd\n",
    "import numpy as np\n",
    "import random\n",
    "from sklearn.model_selection import train_test_split\n",
    "import tensorflow as tf\n",
    "from tensorflow.keras import Input, layers, models\n",
    "import matplotlib.pyplot as plt\n",
    "from sklearn.metrics import accuracy_score, precision_score, recall_score, f1_score, confusion_matrix, roc_curve, roc_auc_score, auc\n",
    "\n",
    "\n",
    "!kaggle datasets download -d arbazkhan971/cuhk-face-sketch-database-cufs --force\n",
    "dataset = \"cuhk-face-sketch-database-cufs.zip\"\n",
    "\n",
    "# 1. Verificando se a configuração do Kaggle já foi feita\n",
    "if not os.path.exists(os.path.expanduser(\"~/.kaggle/kaggle.json\")):\n",
    "    print(\"Certifique-se de que o arquivo 'kaggle.json' foi baixado do Kaggle e movido para ~/.kaggle.\")\n",
    "else:\n",
    "    print(\"Configuração do Kaggle detectada.\")\n",
    "\n",
    "# 2. Baixando o dataset\n",
    "dataset = \"cuhk-face-sketch-database-cufs.zip\"\n",
    "try:\n",
    "    print(\"Baixando dataset...\")\n",
    "    !kaggle datasets download -d {dataset} --force\n",
    "    print(\"Download concluído!\")\n",
    "except Exception as e:\n",
    "    print(f\"Erro ao baixar o dataset: {e}\")\n",
    "\n",
    "# 3. Extraindo o arquivo ZIP\n",
    "zip_path = \"cuhk-face-sketch-database-cufs.zip\"\n",
    "extract_to = \".\"  # Diretório atual\n",
    "\n",
    "\n",
    "# 4. Listando todos arquivos no diretório atual\n",
    "print(\"\\nArquivos no diretório atual:\")\n",
    "print(os.listdir(\".\"))\n",
    "\n",
    "# 5. Verificar a pasta \"photos\" e listar os arquivos\n",
    "image_folder = 'photos'\n",
    "image_files = [f for f in os.listdir(image_folder) if os.path.isfile(os.path.join(image_folder, f))]"
   ]
  },
  {
   "cell_type": "code",
   "execution_count": 193,
   "id": "c6cbb896-da26-4dc0-add0-76c84980896a",
   "metadata": {},
   "outputs": [],
   "source": [
    "data = []"
   ]
  },
  {
   "cell_type": "code",
   "execution_count": 194,
   "id": "bb6c8646-a3c6-4e05-8a49-1f2e6f3c70bf",
   "metadata": {},
   "outputs": [],
   "source": [
    "\n",
    "# loop para gerar os rótulos com base no prefixo do nome do arquivo\n",
    "for image_file in image_files:\n",
    "    # Aqui o rótulo é determinado com base no prefixo\n",
    "    \n",
    "    # Feminino\n",
    "    if image_file.startswith(('f', 'f1')):\n",
    "        label = 1\n",
    "\n",
    "    # Masculino\n",
    "    elif image_file.startswith(('m', 'm1')):\n",
    "        label = 0\n",
    "    else:\n",
    "        print(f\"Nome do arquivo desconhecido {image_file}\")\n",
    "        continue\n",
    "    data.append({'filename': image_file, 'label': label})\n",
    "\n",
    "df = pd.DataFrame(data)\n",
    "\n",
    "# Aqui salvo os rótulos em um arquivo csv\n",
    "output_csv = \"labels.csv\"\n",
    "df.to_csv(output_csv, index=False)"
   ]
  },
  {
   "cell_type": "code",
   "execution_count": 195,
   "id": "7e99bc51-65c8-4362-a597-bdfdfc1675eb",
   "metadata": {},
   "outputs": [
    {
     "name": "stdout",
     "output_type": "stream",
     "text": [
      "Rótulos gerados e salvos em labels.csv\n"
     ]
    }
   ],
   "source": [
    "print(f\"Rótulos gerados e salvos em {output_csv}\")"
   ]
  },
  {
   "cell_type": "markdown",
   "id": "13155129-2f9a-458f-9d9b-f6e5e32bd17e",
   "metadata": {},
   "source": [
    "# 2. Pré-Processamento das Imagens (Anotação, Balanceamento, Redimensionamento, Normalização e Divisão dos Dados)"
   ]
  },
  {
   "cell_type": "code",
   "execution_count": 197,
   "id": "23883f16-3ae8-4e1d-b21d-1135e654dcae",
   "metadata": {},
   "outputs": [],
   "source": [
    "image_filesname = df['filename'].tolist()\n",
    "labels = df['label'].tolist()"
   ]
  },
  {
   "cell_type": "code",
   "execution_count": 198,
   "id": "cce5daff-2ae9-413d-bee6-626e919ac0eb",
   "metadata": {},
   "outputs": [],
   "source": [
    "def balancing_via_oversampling(image_filesname, labels, image_folder):\n",
    "\n",
    "    # Separando as imagens e rótulos por classes\n",
    "    women = [(img, label) for img, label in zip(image_filesname, labels) if label == 1]\n",
    "    men = [(img, label) for img, label in zip(image_filesname, labels) if label == 0]\n",
    "\n",
    "    max_class = max(len(women), len(men))\n",
    "\n",
    "    # Aqui aplico o oversamplig na classe minoritária\n",
    "    if len(women) < max_class:\n",
    "        women = women + random.choices(women, k=max_class - len(women))\n",
    "    elif len(men) < max_class:\n",
    "        men = men + random.choices(men, k=max_class - len(men))\n",
    "\n",
    "    # Combinando as classes e embaralhando para garantir aleatoriedade nos conjuntos de treinamento e teste\n",
    "    balanced_data = women + men\n",
    "    random.shuffle(balanced_data)\n",
    "    \n",
    "    # Aqui eu separo de novo em imagem e rótulo e gero uma pasta\n",
    "    balanced_image_files = [os.path.join(image_folder, item[0]) for item in balanced_data]\n",
    "    balanced_labels = [item[1] for item in balanced_data]\n",
    "\n",
    "\n",
    "    return balanced_image_files, balanced_labels"
   ]
  },
  {
   "cell_type": "code",
   "execution_count": 199,
   "id": "730192d5-f5a4-46c7-8611-36b1b7ccd81b",
   "metadata": {},
   "outputs": [],
   "source": [
    "def preprocess(image_files):\n",
    "    processed_images = []\n",
    "    target_size = (200, 250)\n",
    "    for image_file in image_files:\n",
    "        try:\n",
    "            # Carregar a imagem e converter para RGB\n",
    "            img = Image.open(image_file).convert('RGB')\n",
    "            \n",
    "            # Redimensionando a imagem para de 250x200\n",
    "            img = img.resize(target_size)\n",
    "            \n",
    "            # Convertendo e normalizando\n",
    "            img_array = np.array(img) / 255.0\n",
    "            processed_images.append(img_array)\n",
    "        except Exception as e:\n",
    "            print(f\"Erro ao carregar imagem {image_file}: {e}\")\n",
    "    return processed_images\n"
   ]
  },
  {
   "cell_type": "code",
   "execution_count": 200,
   "id": "d709d3a7-9a24-43c0-9257-ba35b94496f4",
   "metadata": {},
   "outputs": [],
   "source": [
    "# Balanceando as classes\n",
    "balanced_image_files, balanced_labels = balancing_via_oversampling(image_filesname, labels, image_folder)"
   ]
  },
  {
   "cell_type": "code",
   "execution_count": 201,
   "id": "89e07609-8343-40e6-92b2-8d808843f4d5",
   "metadata": {},
   "outputs": [],
   "source": [
    "# Divisão em treino 80% e teste 20%\n",
    "train_files, test_files, train_labels, test_labels = train_test_split(\n",
    "    balanced_image_files, balanced_labels, test_size=0.2, random_state=23\n",
    ")"
   ]
  },
  {
   "cell_type": "code",
   "execution_count": 202,
   "id": "bded514f",
   "metadata": {},
   "outputs": [],
   "source": [
    "# Divisão em treino 50% e validação 30% | test_size=30/80\n",
    "train_files, val_files, train_labels, val_labels = train_test_split(\n",
    "    train_files, train_labels, test_size=0.375, random_state=23\n",
    ")"
   ]
  },
  {
   "cell_type": "code",
   "execution_count": 203,
   "id": "687ee746-53ca-4f4a-ab1b-57f6fec6a666",
   "metadata": {},
   "outputs": [],
   "source": [
    "# Pré-processando as imagens de treino e teste\n",
    "train_images = preprocess(train_files)\n",
    "val_images = preprocess(val_files)\n",
    "test_images = preprocess(test_files)"
   ]
  },
  {
   "cell_type": "code",
   "execution_count": 204,
   "id": "93fef6c2-c58a-4d45-a022-311c8e472462",
   "metadata": {},
   "outputs": [
    {
     "name": "stdout",
     "output_type": "stream",
     "text": [
      "Total de imagens no treino: 133\n",
      "Total de imagens na validação: 81\n",
      "Total de imagens no teste: 54\n"
     ]
    }
   ],
   "source": [
    "print(f\"Total de imagens no treino: {len(train_files)}\")\n",
    "print(f\"Total de imagens na validação: {len(val_files)}\")\n",
    "print(f\"Total de imagens no teste: {len(test_files)}\")"
   ]
  },
  {
   "cell_type": "markdown",
   "id": "837eaa82-a11f-4323-9d1d-286873f867d9",
   "metadata": {},
   "source": [
    "# 3. Desenvolvimento do Modelo"
   ]
  },
  {
   "cell_type": "markdown",
   "id": "c83dd80e-7825-4293-b63a-61eef5ba23fb",
   "metadata": {},
   "source": [
    "## 3.1 Arquitetura do Modelo"
   ]
  },
  {
   "cell_type": "code",
   "execution_count": 207,
   "id": "30680ed3-ef10-42d6-8fad-54810ac96140",
   "metadata": {},
   "outputs": [],
   "source": [
    "def model_architecture():\n",
    "    model = tf.keras.Sequential()\n",
    "    \n",
    "    model.add(Input(shape=(250, 200, 3)))  \n",
    "    \n",
    "    # Camada 1: Convolucional\n",
    "    model.add(layers.Conv2D(32, (3, 3), activation='relu'))\n",
    "    model.add(layers.MaxPooling2D((2, 2)))\n",
    "\n",
    "    # Camada 2: Convolucional\n",
    "    model.add(layers.Conv2D(64, (3, 3), activation='relu'))\n",
    "    model.add(layers.MaxPooling2D((2, 2)))\n",
    "\n",
    "    # Camada 3: Convolucional\n",
    "    model.add(layers.Conv2D(128, (3, 3), activation='relu'))\n",
    "    model.add(layers.MaxPooling2D((2, 2)))\n",
    "\n",
    "    # Camada de Flatten\n",
    "    model.add(layers.Flatten())\n",
    "\n",
    "    # Camada Densa\n",
    "    model.add(layers.Dense(128, activation='relu'))\n",
    "    \n",
    "    # Camada de Saída \n",
    "    model.add(layers.Dense(1, activation='sigmoid')) \n",
    "\n",
    "    # Compilação do modelo\n",
    "    model.compile(optimizer='adam', loss='binary_crossentropy', metrics=['accuracy'])\n",
    "\n",
    "    return model"
   ]
  },
  {
   "cell_type": "code",
   "execution_count": 208,
   "id": "b5b175ae-0768-4f91-8dc7-377e01ff0687",
   "metadata": {},
   "outputs": [],
   "source": [
    "model = model_architecture()"
   ]
  },
  {
   "cell_type": "code",
   "execution_count": 209,
   "id": "c7f0dd1e-a86a-4fcb-807f-940993976886",
   "metadata": {},
   "outputs": [
    {
     "data": {
      "text/html": [
       "<pre style=\"white-space:pre;overflow-x:auto;line-height:normal;font-family:Menlo,'DejaVu Sans Mono',consolas,'Courier New',monospace\"><span style=\"font-weight: bold\">Model: \"sequential_5\"</span>\n",
       "</pre>\n"
      ],
      "text/plain": [
       "\u001b[1mModel: \"sequential_5\"\u001b[0m\n"
      ]
     },
     "metadata": {},
     "output_type": "display_data"
    },
    {
     "data": {
      "text/html": [
       "<pre style=\"white-space:pre;overflow-x:auto;line-height:normal;font-family:Menlo,'DejaVu Sans Mono',consolas,'Courier New',monospace\">┏━━━━━━━━━━━━━━━━━━━━━━━━━━━━━━━━━━━━━━┳━━━━━━━━━━━━━━━━━━━━━━━━━━━━━┳━━━━━━━━━━━━━━━━━┓\n",
       "┃<span style=\"font-weight: bold\"> Layer (type)                         </span>┃<span style=\"font-weight: bold\"> Output Shape                </span>┃<span style=\"font-weight: bold\">         Param # </span>┃\n",
       "┡━━━━━━━━━━━━━━━━━━━━━━━━━━━━━━━━━━━━━━╇━━━━━━━━━━━━━━━━━━━━━━━━━━━━━╇━━━━━━━━━━━━━━━━━┩\n",
       "│ conv2d_15 (<span style=\"color: #0087ff; text-decoration-color: #0087ff\">Conv2D</span>)                   │ (<span style=\"color: #00d7ff; text-decoration-color: #00d7ff\">None</span>, <span style=\"color: #00af00; text-decoration-color: #00af00\">248</span>, <span style=\"color: #00af00; text-decoration-color: #00af00\">198</span>, <span style=\"color: #00af00; text-decoration-color: #00af00\">32</span>)        │             <span style=\"color: #00af00; text-decoration-color: #00af00\">896</span> │\n",
       "├──────────────────────────────────────┼─────────────────────────────┼─────────────────┤\n",
       "│ max_pooling2d_15 (<span style=\"color: #0087ff; text-decoration-color: #0087ff\">MaxPooling2D</span>)      │ (<span style=\"color: #00d7ff; text-decoration-color: #00d7ff\">None</span>, <span style=\"color: #00af00; text-decoration-color: #00af00\">124</span>, <span style=\"color: #00af00; text-decoration-color: #00af00\">99</span>, <span style=\"color: #00af00; text-decoration-color: #00af00\">32</span>)         │               <span style=\"color: #00af00; text-decoration-color: #00af00\">0</span> │\n",
       "├──────────────────────────────────────┼─────────────────────────────┼─────────────────┤\n",
       "│ conv2d_16 (<span style=\"color: #0087ff; text-decoration-color: #0087ff\">Conv2D</span>)                   │ (<span style=\"color: #00d7ff; text-decoration-color: #00d7ff\">None</span>, <span style=\"color: #00af00; text-decoration-color: #00af00\">122</span>, <span style=\"color: #00af00; text-decoration-color: #00af00\">97</span>, <span style=\"color: #00af00; text-decoration-color: #00af00\">64</span>)         │          <span style=\"color: #00af00; text-decoration-color: #00af00\">18,496</span> │\n",
       "├──────────────────────────────────────┼─────────────────────────────┼─────────────────┤\n",
       "│ max_pooling2d_16 (<span style=\"color: #0087ff; text-decoration-color: #0087ff\">MaxPooling2D</span>)      │ (<span style=\"color: #00d7ff; text-decoration-color: #00d7ff\">None</span>, <span style=\"color: #00af00; text-decoration-color: #00af00\">61</span>, <span style=\"color: #00af00; text-decoration-color: #00af00\">48</span>, <span style=\"color: #00af00; text-decoration-color: #00af00\">64</span>)          │               <span style=\"color: #00af00; text-decoration-color: #00af00\">0</span> │\n",
       "├──────────────────────────────────────┼─────────────────────────────┼─────────────────┤\n",
       "│ conv2d_17 (<span style=\"color: #0087ff; text-decoration-color: #0087ff\">Conv2D</span>)                   │ (<span style=\"color: #00d7ff; text-decoration-color: #00d7ff\">None</span>, <span style=\"color: #00af00; text-decoration-color: #00af00\">59</span>, <span style=\"color: #00af00; text-decoration-color: #00af00\">46</span>, <span style=\"color: #00af00; text-decoration-color: #00af00\">128</span>)         │          <span style=\"color: #00af00; text-decoration-color: #00af00\">73,856</span> │\n",
       "├──────────────────────────────────────┼─────────────────────────────┼─────────────────┤\n",
       "│ max_pooling2d_17 (<span style=\"color: #0087ff; text-decoration-color: #0087ff\">MaxPooling2D</span>)      │ (<span style=\"color: #00d7ff; text-decoration-color: #00d7ff\">None</span>, <span style=\"color: #00af00; text-decoration-color: #00af00\">29</span>, <span style=\"color: #00af00; text-decoration-color: #00af00\">23</span>, <span style=\"color: #00af00; text-decoration-color: #00af00\">128</span>)         │               <span style=\"color: #00af00; text-decoration-color: #00af00\">0</span> │\n",
       "├──────────────────────────────────────┼─────────────────────────────┼─────────────────┤\n",
       "│ flatten_5 (<span style=\"color: #0087ff; text-decoration-color: #0087ff\">Flatten</span>)                  │ (<span style=\"color: #00d7ff; text-decoration-color: #00d7ff\">None</span>, <span style=\"color: #00af00; text-decoration-color: #00af00\">85376</span>)               │               <span style=\"color: #00af00; text-decoration-color: #00af00\">0</span> │\n",
       "├──────────────────────────────────────┼─────────────────────────────┼─────────────────┤\n",
       "│ dense_10 (<span style=\"color: #0087ff; text-decoration-color: #0087ff\">Dense</span>)                     │ (<span style=\"color: #00d7ff; text-decoration-color: #00d7ff\">None</span>, <span style=\"color: #00af00; text-decoration-color: #00af00\">128</span>)                 │      <span style=\"color: #00af00; text-decoration-color: #00af00\">10,928,256</span> │\n",
       "├──────────────────────────────────────┼─────────────────────────────┼─────────────────┤\n",
       "│ dense_11 (<span style=\"color: #0087ff; text-decoration-color: #0087ff\">Dense</span>)                     │ (<span style=\"color: #00d7ff; text-decoration-color: #00d7ff\">None</span>, <span style=\"color: #00af00; text-decoration-color: #00af00\">1</span>)                   │             <span style=\"color: #00af00; text-decoration-color: #00af00\">129</span> │\n",
       "└──────────────────────────────────────┴─────────────────────────────┴─────────────────┘\n",
       "</pre>\n"
      ],
      "text/plain": [
       "┏━━━━━━━━━━━━━━━━━━━━━━━━━━━━━━━━━━━━━━┳━━━━━━━━━━━━━━━━━━━━━━━━━━━━━┳━━━━━━━━━━━━━━━━━┓\n",
       "┃\u001b[1m \u001b[0m\u001b[1mLayer (type)                        \u001b[0m\u001b[1m \u001b[0m┃\u001b[1m \u001b[0m\u001b[1mOutput Shape               \u001b[0m\u001b[1m \u001b[0m┃\u001b[1m \u001b[0m\u001b[1m        Param #\u001b[0m\u001b[1m \u001b[0m┃\n",
       "┡━━━━━━━━━━━━━━━━━━━━━━━━━━━━━━━━━━━━━━╇━━━━━━━━━━━━━━━━━━━━━━━━━━━━━╇━━━━━━━━━━━━━━━━━┩\n",
       "│ conv2d_15 (\u001b[38;5;33mConv2D\u001b[0m)                   │ (\u001b[38;5;45mNone\u001b[0m, \u001b[38;5;34m248\u001b[0m, \u001b[38;5;34m198\u001b[0m, \u001b[38;5;34m32\u001b[0m)        │             \u001b[38;5;34m896\u001b[0m │\n",
       "├──────────────────────────────────────┼─────────────────────────────┼─────────────────┤\n",
       "│ max_pooling2d_15 (\u001b[38;5;33mMaxPooling2D\u001b[0m)      │ (\u001b[38;5;45mNone\u001b[0m, \u001b[38;5;34m124\u001b[0m, \u001b[38;5;34m99\u001b[0m, \u001b[38;5;34m32\u001b[0m)         │               \u001b[38;5;34m0\u001b[0m │\n",
       "├──────────────────────────────────────┼─────────────────────────────┼─────────────────┤\n",
       "│ conv2d_16 (\u001b[38;5;33mConv2D\u001b[0m)                   │ (\u001b[38;5;45mNone\u001b[0m, \u001b[38;5;34m122\u001b[0m, \u001b[38;5;34m97\u001b[0m, \u001b[38;5;34m64\u001b[0m)         │          \u001b[38;5;34m18,496\u001b[0m │\n",
       "├──────────────────────────────────────┼─────────────────────────────┼─────────────────┤\n",
       "│ max_pooling2d_16 (\u001b[38;5;33mMaxPooling2D\u001b[0m)      │ (\u001b[38;5;45mNone\u001b[0m, \u001b[38;5;34m61\u001b[0m, \u001b[38;5;34m48\u001b[0m, \u001b[38;5;34m64\u001b[0m)          │               \u001b[38;5;34m0\u001b[0m │\n",
       "├──────────────────────────────────────┼─────────────────────────────┼─────────────────┤\n",
       "│ conv2d_17 (\u001b[38;5;33mConv2D\u001b[0m)                   │ (\u001b[38;5;45mNone\u001b[0m, \u001b[38;5;34m59\u001b[0m, \u001b[38;5;34m46\u001b[0m, \u001b[38;5;34m128\u001b[0m)         │          \u001b[38;5;34m73,856\u001b[0m │\n",
       "├──────────────────────────────────────┼─────────────────────────────┼─────────────────┤\n",
       "│ max_pooling2d_17 (\u001b[38;5;33mMaxPooling2D\u001b[0m)      │ (\u001b[38;5;45mNone\u001b[0m, \u001b[38;5;34m29\u001b[0m, \u001b[38;5;34m23\u001b[0m, \u001b[38;5;34m128\u001b[0m)         │               \u001b[38;5;34m0\u001b[0m │\n",
       "├──────────────────────────────────────┼─────────────────────────────┼─────────────────┤\n",
       "│ flatten_5 (\u001b[38;5;33mFlatten\u001b[0m)                  │ (\u001b[38;5;45mNone\u001b[0m, \u001b[38;5;34m85376\u001b[0m)               │               \u001b[38;5;34m0\u001b[0m │\n",
       "├──────────────────────────────────────┼─────────────────────────────┼─────────────────┤\n",
       "│ dense_10 (\u001b[38;5;33mDense\u001b[0m)                     │ (\u001b[38;5;45mNone\u001b[0m, \u001b[38;5;34m128\u001b[0m)                 │      \u001b[38;5;34m10,928,256\u001b[0m │\n",
       "├──────────────────────────────────────┼─────────────────────────────┼─────────────────┤\n",
       "│ dense_11 (\u001b[38;5;33mDense\u001b[0m)                     │ (\u001b[38;5;45mNone\u001b[0m, \u001b[38;5;34m1\u001b[0m)                   │             \u001b[38;5;34m129\u001b[0m │\n",
       "└──────────────────────────────────────┴─────────────────────────────┴─────────────────┘\n"
      ]
     },
     "metadata": {},
     "output_type": "display_data"
    },
    {
     "data": {
      "text/html": [
       "<pre style=\"white-space:pre;overflow-x:auto;line-height:normal;font-family:Menlo,'DejaVu Sans Mono',consolas,'Courier New',monospace\"><span style=\"font-weight: bold\"> Total params: </span><span style=\"color: #00af00; text-decoration-color: #00af00\">11,021,633</span> (42.04 MB)\n",
       "</pre>\n"
      ],
      "text/plain": [
       "\u001b[1m Total params: \u001b[0m\u001b[38;5;34m11,021,633\u001b[0m (42.04 MB)\n"
      ]
     },
     "metadata": {},
     "output_type": "display_data"
    },
    {
     "data": {
      "text/html": [
       "<pre style=\"white-space:pre;overflow-x:auto;line-height:normal;font-family:Menlo,'DejaVu Sans Mono',consolas,'Courier New',monospace\"><span style=\"font-weight: bold\"> Trainable params: </span><span style=\"color: #00af00; text-decoration-color: #00af00\">11,021,633</span> (42.04 MB)\n",
       "</pre>\n"
      ],
      "text/plain": [
       "\u001b[1m Trainable params: \u001b[0m\u001b[38;5;34m11,021,633\u001b[0m (42.04 MB)\n"
      ]
     },
     "metadata": {},
     "output_type": "display_data"
    },
    {
     "data": {
      "text/html": [
       "<pre style=\"white-space:pre;overflow-x:auto;line-height:normal;font-family:Menlo,'DejaVu Sans Mono',consolas,'Courier New',monospace\"><span style=\"font-weight: bold\"> Non-trainable params: </span><span style=\"color: #00af00; text-decoration-color: #00af00\">0</span> (0.00 B)\n",
       "</pre>\n"
      ],
      "text/plain": [
       "\u001b[1m Non-trainable params: \u001b[0m\u001b[38;5;34m0\u001b[0m (0.00 B)\n"
      ]
     },
     "metadata": {},
     "output_type": "display_data"
    }
   ],
   "source": [
    "model.summary()"
   ]
  },
  {
   "cell_type": "markdown",
   "id": "c39d6ad2-e123-4425-be27-fd249e2492e6",
   "metadata": {},
   "source": [
    "## 3.2 Treinamento"
   ]
  },
  {
   "cell_type": "code",
   "execution_count": 211,
   "id": "8ad98ca8-6122-4451-aa28-6c9f5846870f",
   "metadata": {},
   "outputs": [
    {
     "name": "stdout",
     "output_type": "stream",
     "text": [
      "Epoch 1/10\n",
      "\u001b[1m5/5\u001b[0m \u001b[32m━━━━━━━━━━━━━━━━━━━━\u001b[0m\u001b[37m\u001b[0m \u001b[1m18s\u001b[0m 3s/step - accuracy: 0.5974 - loss: 2.4905 - val_accuracy: 0.4691 - val_loss: 0.7984\n",
      "Epoch 2/10\n",
      "\u001b[1m5/5\u001b[0m \u001b[32m━━━━━━━━━━━━━━━━━━━━\u001b[0m\u001b[37m\u001b[0m \u001b[1m14s\u001b[0m 3s/step - accuracy: 0.5255 - loss: 0.7084 - val_accuracy: 0.5309 - val_loss: 0.6837\n",
      "Epoch 3/10\n",
      "\u001b[1m5/5\u001b[0m \u001b[32m━━━━━━━━━━━━━━━━━━━━\u001b[0m\u001b[37m\u001b[0m \u001b[1m20s\u001b[0m 3s/step - accuracy: 0.4877 - loss: 0.6843 - val_accuracy: 0.7778 - val_loss: 0.6576\n",
      "Epoch 4/10\n",
      "\u001b[1m5/5\u001b[0m \u001b[32m━━━━━━━━━━━━━━━━━━━━\u001b[0m\u001b[37m\u001b[0m \u001b[1m13s\u001b[0m 3s/step - accuracy: 0.8972 - loss: 0.6311 - val_accuracy: 0.7284 - val_loss: 0.5934\n",
      "Epoch 5/10\n",
      "\u001b[1m5/5\u001b[0m \u001b[32m━━━━━━━━━━━━━━━━━━━━\u001b[0m\u001b[37m\u001b[0m \u001b[1m14s\u001b[0m 3s/step - accuracy: 0.8060 - loss: 0.5201 - val_accuracy: 0.8025 - val_loss: 0.4153\n",
      "Epoch 6/10\n",
      "\u001b[1m5/5\u001b[0m \u001b[32m━━━━━━━━━━━━━━━━━━━━\u001b[0m\u001b[37m\u001b[0m \u001b[1m19s\u001b[0m 2s/step - accuracy: 0.8081 - loss: 0.4204 - val_accuracy: 0.8395 - val_loss: 0.4169\n",
      "Epoch 7/10\n",
      "\u001b[1m5/5\u001b[0m \u001b[32m━━━━━━━━━━━━━━━━━━━━\u001b[0m\u001b[37m\u001b[0m \u001b[1m12s\u001b[0m 2s/step - accuracy: 0.8815 - loss: 0.3521 - val_accuracy: 0.7901 - val_loss: 0.4203\n",
      "Epoch 8/10\n",
      "\u001b[1m5/5\u001b[0m \u001b[32m━━━━━━━━━━━━━━━━━━━━\u001b[0m\u001b[37m\u001b[0m \u001b[1m13s\u001b[0m 3s/step - accuracy: 0.8917 - loss: 0.2742 - val_accuracy: 0.7901 - val_loss: 0.4081\n",
      "Epoch 9/10\n",
      "\u001b[1m5/5\u001b[0m \u001b[32m━━━━━━━━━━━━━━━━━━━━\u001b[0m\u001b[37m\u001b[0m \u001b[1m14s\u001b[0m 3s/step - accuracy: 0.8845 - loss: 0.3425 - val_accuracy: 0.8025 - val_loss: 0.3233\n",
      "Epoch 10/10\n",
      "\u001b[1m5/5\u001b[0m \u001b[32m━━━━━━━━━━━━━━━━━━━━\u001b[0m\u001b[37m\u001b[0m \u001b[1m13s\u001b[0m 3s/step - accuracy: 0.9064 - loss: 0.2301 - val_accuracy: 0.8642 - val_loss: 0.3491\n"
     ]
    }
   ],
   "source": [
    "# Treinar o modelo\n",
    "history = model.fit(\n",
    "    np.array(train_images), np.array(train_labels),  # Imagens de treinamento e rótulos\n",
    "    epochs=10,  # Número de épocas (ajuste conforme necessário)\n",
    "    batch_size=32,  # Tamanho do lote (ajuste conforme necessário)\n",
    "    validation_data=(np.array(val_images), np.array(val_labels))  # Dados de validação\n",
    ")"
   ]
  },
  {
   "cell_type": "code",
   "execution_count": 212,
   "id": "47c6d784-fdb6-41d2-a0ec-2a7fa80946d4",
   "metadata": {},
   "outputs": [
    {
     "name": "stdout",
     "output_type": "stream",
     "text": [
      "\u001b[1m2/2\u001b[0m \u001b[32m━━━━━━━━━━━━━━━━━━━━\u001b[0m\u001b[37m\u001b[0m \u001b[1m1s\u001b[0m 395ms/step - accuracy: 0.9051 - loss: 0.3129\n",
      "Loss no teste: 0.33909714221954346\n",
      "Acurácia no teste: 0.8888888955116272\n"
     ]
    }
   ],
   "source": [
    "# Avaliando o mdoelo\n",
    "test_loss, test_accuracy = model.evaluate(np.array(test_images), np.array(test_labels))\n",
    "print(f\"Loss no teste: {test_loss}\")\n",
    "print(f\"Acurácia no teste: {test_accuracy}\")"
   ]
  },
  {
   "cell_type": "code",
   "execution_count": 213,
   "id": "ab883dff-d39d-4526-ac66-84d4373886d7",
   "metadata": {},
   "outputs": [
    {
     "name": "stdout",
     "output_type": "stream",
     "text": [
      "\u001b[1m2/2\u001b[0m \u001b[32m━━━━━━━━━━━━━━━━━━━━\u001b[0m\u001b[37m\u001b[0m \u001b[1m1s\u001b[0m 485ms/step\n"
     ]
    }
   ],
   "source": [
    "# Fazer previsões sobre as imagens de teste\n",
    "predictions = model.predict(np.array(test_images))\n",
    "\n",
    "# Converter as previsões para 0 ou 1\n",
    "predicted_labels = (predictions >= 0.5).astype(int).flatten()"
   ]
  },
  {
   "cell_type": "markdown",
   "id": "cfd29464-b130-4a22-adf8-be2b0001baa3",
   "metadata": {},
   "source": [
    "# 4. Análise e Visualização dos resultados"
   ]
  },
  {
   "cell_type": "code",
   "execution_count": 215,
   "id": "c1655d3c-654d-4a88-8bc0-26f2d8cecd51",
   "metadata": {},
   "outputs": [
    {
     "data": {
      "image/png": "[encoded data removed]",
      "text/plain": [
       "<Figure size 640x480 with 1 Axes>"
      ]
     },
     "metadata": {},
     "output_type": "display_data"
    },
    {
     "data": {
      "image/png": "[encoded data removed]",
      "text/plain": [
       "<Figure size 640x480 with 1 Axes>"
      ]
     },
     "metadata": {},
     "output_type": "display_data"
    }
   ],
   "source": [
    "\n",
    "\n",
    "# Plotar a acurácia\n",
    "plt.plot(history.history['accuracy'], label='Acurácia no treino')\n",
    "plt.plot(history.history['val_accuracy'], label='Acurácia no teste')\n",
    "plt.xlabel('Épocas')\n",
    "plt.ylabel('Acurácia')\n",
    "plt.legend()\n",
    "plt.show()\n",
    "\n",
    "# Plotar a perda\n",
    "plt.plot(history.history['loss'], label='Perda no treino')\n",
    "plt.plot(history.history['val_loss'], label='Perda no teste')\n",
    "plt.xlabel('Épocas')\n",
    "plt.ylabel('Perda')\n",
    "plt.legend()\n",
    "plt.show()"
   ]
  },
  {
   "cell_type": "code",
   "execution_count": 216,
   "id": "a570354d-d25d-4baf-bb5e-e8a295928e8b",
   "metadata": {},
   "outputs": [
    {
     "name": "stdout",
     "output_type": "stream",
     "text": [
      "F1 Score: 0.90\n",
      "(54, 1)\n",
      "AUC Score: 0.97\n"
     ]
    },
    {
     "data": {
      "image/png": "[encoded data removed]",
      "text/plain": [
       "<Figure size 800x600 with 1 Axes>"
      ]
     },
     "metadata": {},
     "output_type": "display_data"
    }
   ],
   "source": [
    "# F1 Score\n",
    "# F1-score\n",
    "f1 = f1_score(test_labels, predicted_labels)\n",
    "print(f\"F1 Score: {f1:.2f}\")\n",
    "\n",
    "print(predictions.shape)\n",
    "# AUC (Área sob a curva ROC)\n",
    "auc_score = roc_auc_score(test_labels, predictions)\n",
    "\n",
    "print(f\"AUC Score: {auc_score:.2f}\")\n",
    "\n",
    "# Aqui calculo a curva ROC\n",
    "fpr, tpr, thresholds = roc_curve(test_labels, predictions)\n",
    "\n",
    "# Aqui é o AUC\n",
    "roc_auc = auc(fpr, tpr)\n",
    "\n",
    "# Plotar a curva ROC\n",
    "plt.figure(figsize=(8, 6))\n",
    "plt.plot(fpr, tpr, color='blue', label=f'Curva ROC (AUC = {roc_auc:.2f})')\n",
    "plt.plot([0, 1], [0, 1], color='red', linestyle='--', label='Adivinhação Aleatória')\n",
    "plt.xlabel('Taxa de Falsos Positivos')\n",
    "plt.ylabel('Taxa de Verdadeiros Positivos')\n",
    "plt.title('ROC')\n",
    "plt.legend(loc=\"lower right\")\n",
    "plt.show()"
   ]
  },
  {
   "cell_type": "code",
   "execution_count": null,
   "id": "2e8ba2d6-db2e-4b13-a3f6-eca5b5fc72e4",
   "metadata": {},
   "outputs": [],
   "source": []
  }
 ],
 "metadata": {
  "kernelspec": {
   "display_name": "Python 3 (ipykernel)",
   "language": "python",
   "name": "python3"
  },
  "language_info": {
   "codemirror_mode": {
    "name": "ipython",
    "version": 3
   },
   "file_extension": ".py",
   "mimetype": "text/x-python",
   "name": "python",
   "nbconvert_exporter": "python",
   "pygments_lexer": "ipython3",
   "version": "3.12.7"
  }
 },
 "nbformat": 4,
 "nbformat_minor": 5
}
